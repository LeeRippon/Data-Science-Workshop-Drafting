{
 "cells": [
  {
   "cell_type": "markdown",
   "metadata": {},
   "source": [
    "# Regression Project Drafting"
   ]
  },
  {
   "cell_type": "markdown",
   "metadata": {},
   "source": [
    "## 1 Linear Regression\n",
    "### 1.1 Background\n",
    "Consider a set of $i = 1, \\dots, n$ samples where each sample contains a set of $j = 1, \\dots, d$ features, $x_{ij}$, and a label $y_i$. With linear regression our label is a linear function of our features, i.e., \n",
    "$$ \\hat{y}_i=w_1x_{i1}+w_2x_{i2}+\\cdots+w_dx_{id} = \\sum_{j=1}^d w_jx_{ij} = w^Tx_i $$\n",
    "where $w_j$ are the weights or regression coefficients of $x_i$.\n",
    "#### 1.1.1 Least Squares Objective\n",
    "A common way to determine the regression coefficients is by minimizing the sum of squared errors between the predicted label ($\\hat{y}_i = w^Tx_i$) and the true label ($y_i$), i.e., \n",
    "$$f(w) = \\frac{1}{2}\\sum_{i=1}^n(w^Tx_i-y_i)^2$$\n",
    "where $f(w)$ is commonly referred to as the loss function."
   ]
  },
  {
   "cell_type": "markdown",
   "metadata": {},
   "source": [
    "[deriving the ridge regression solution](https://stats.stackexchange.com/questions/69205/how-to-derive-the-ridge-regression-solution)"
   ]
  },
  {
   "cell_type": "markdown",
   "metadata": {},
   "source": [
    "Types to consider include:\n",
    "* Ordinary least squares regression (OLSR)\n",
    "* Linear regression\n",
    "* Logistic regression\n",
    "* Stepwise regression\n",
    "* Multivariate adaptive regression splines (MARS)\n",
    "* Locally estimated scatterplot smoothing (LOESS)\n",
    "* Jackknife regression"
   ]
  },
  {
   "cell_type": "markdown",
   "metadata": {
    "collapsed": true
   },
   "source": [
    "## Linear Regression from Learnds.com"
   ]
  },
  {
   "cell_type": "markdown",
   "metadata": {},
   "source": [
    "### From Overview"
   ]
  },
  {
   "cell_type": "code",
   "execution_count": null,
   "metadata": {
    "collapsed": true
   },
   "outputs": [],
   "source": [
    "%pylab inline\n",
    "import pandas as pd\n",
    "# we have to clean up the raw data set which we will do\n",
    "# in the next lesson. But for now let's look at the cleaned up data.\n",
    "# import the cleaned up dataset into a pandas data frame\n",
    "df = pd.read_csv('../datasets/loanf.csv')\n",
    "\n",
    "# extract FICO Score and Interest Rate and plot them\n",
    "# FICO Score on x-axis, Interest Rate on y-axis\n",
    "intrate = df['Interest.Rate']\n",
    "fico = df['FICO.Score']\n",
    "p = plot(fico,intrate,'o')\n",
    "ax = gca()\n",
    "xt = ax.set_xlabel('FICO Score')\n",
    "yt = ax.set_ylabel('Interest Rate %')"
   ]
  },
  {
   "cell_type": "code",
   "execution_count": null,
   "metadata": {
    "collapsed": true
   },
   "outputs": [],
   "source": [
    "from IPython.core.display import HTML\n",
    "def css_styling():\n",
    "    styles = open(\"../styles/custom.css\", \"r\").read()\n",
    "    return HTML(styles)\n",
    "css_styling()"
   ]
  },
  {
   "cell_type": "markdown",
   "metadata": {},
   "source": [
    "### From Data Exploration: Lending Club"
   ]
  },
  {
   "cell_type": "code",
   "execution_count": null,
   "metadata": {
    "collapsed": true
   },
   "outputs": [],
   "source": [
    "%matplotlib inline\n",
    "# first we ingest the data from the source on the web\n",
    "# this contains a reduced version of the data set from Lending Club\n",
    "import pandas as pd\n",
    "loansData = pd.read_csv('https://spark-public.s3.amazonaws.com/dataanalysis/loansData.csv')"
   ]
  },
  {
   "cell_type": "code",
   "execution_count": null,
   "metadata": {
    "collapsed": true
   },
   "outputs": [],
   "source": [
    "loansData['Interest.Rate'][0:5] # first five rows of Interest.Rate"
   ]
  },
  {
   "cell_type": "code",
   "execution_count": null,
   "metadata": {
    "collapsed": true
   },
   "outputs": [],
   "source": [
    "loansData['Loan.Length'][0:5] # first five rows of Loan.Length"
   ]
  },
  {
   "cell_type": "code",
   "execution_count": null,
   "metadata": {
    "collapsed": true
   },
   "outputs": [],
   "source": [
    "loansData['FICO.Range'][0:5] # first five rows of FICO.Range"
   ]
  },
  {
   "cell_type": "code",
   "execution_count": null,
   "metadata": {
    "collapsed": true
   },
   "outputs": [],
   "source": [
    "LoanLength = loansData['Loan.Length']\n",
    "df = pd.DataFrame(LoanLength)\n",
    "# LoanLength = 'LoanLength'.translate(\"month\")\n",
    "# LoanLength = LoanLength.str.replace('m,o,n,t,h','')\n",
    "# LoanLength = LoanLength.replace('m,o,n,t,h,s','')\n",
    "# LoanLength[0:5]\n",
    "df.describe() \n",
    "# LoanLength.info()\n",
    "df.str.replace(\"mo\",'')\n",
    "# import re\n",
    "# LoanLength = re.sub('[months]','',LoanLength)\n",
    "# LoanLength[0:5]\n",
    "# df.replace('[months]','')"
   ]
  },
  {
   "cell_type": "code",
   "execution_count": null,
   "metadata": {
    "collapsed": true
   },
   "outputs": [],
   "source": [
    "help(str.translate)"
   ]
  },
  {
   "cell_type": "markdown",
   "metadata": {},
   "source": [
    "Well that was a fail so now I am moving onto a new tutorial"
   ]
  },
  {
   "cell_type": "markdown",
   "metadata": {},
   "source": [
    "## From Introduction to Linear Regression\n",
    "[Introduction to Linear Regression](http://nbviewer.jupyter.org/github/justmarkham/DAT4/blob/master/notebooks/08_linear_regression.ipynb)"
   ]
  },
  {
   "cell_type": "code",
   "execution_count": null,
   "metadata": {
    "collapsed": true
   },
   "outputs": [],
   "source": [
    "# imports\n",
    "import pandas as pd\n",
    "import matplotlib.pyplot as plt\n",
    "\n",
    "# this allows plots to appear directly in the notebook\n",
    "%matplotlib inline\n",
    "\n",
    "# read data into a DataFrame\n",
    "data = pd.read_csv('http://www-bcf.usc.edu/~gareth/ISL/Advertising.csv', index_col=0)\n",
    "data.head()\n",
    "\n",
    "# print the shape of the DataFrame\n",
    "data.shape\n",
    "\n",
    "# visualize the relationship between the features and the response using scatterplots\n",
    "fig, axs = plt.subplots(1, 3, sharey=True)\n",
    "data.plot(kind='scatter', x='TV', y='Sales', ax=axs[0], figsize=(16, 8))\n",
    "data.plot(kind='scatter', x='Radio', y='Sales', ax=axs[1])\n",
    "data.plot(kind='scatter', x='Newspaper', y='Sales', ax=axs[2])"
   ]
  },
  {
   "cell_type": "code",
   "execution_count": null,
   "metadata": {
    "collapsed": true
   },
   "outputs": [],
   "source": []
  }
 ],
 "metadata": {
  "kernelspec": {
   "display_name": "Python 3",
   "language": "python",
   "name": "python3"
  },
  "language_info": {
   "codemirror_mode": {
    "name": "ipython",
    "version": 3
   },
   "file_extension": ".py",
   "mimetype": "text/x-python",
   "name": "python",
   "nbconvert_exporter": "python",
   "pygments_lexer": "ipython3",
   "version": "3.5.2"
  }
 },
 "nbformat": 4,
 "nbformat_minor": 2
}
